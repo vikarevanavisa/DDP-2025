{
  "nbformat": 4,
  "nbformat_minor": 0,
  "metadata": {
    "colab": {
      "provenance": [],
      "authorship_tag": "ABX9TyNgixq0KFdi/OIjSfhTluOa",
      "include_colab_link": true
    },
    "kernelspec": {
      "name": "python3",
      "display_name": "Python 3"
    },
    "language_info": {
      "name": "python"
    }
  },
  "cells": [
    {
      "cell_type": "markdown",
      "metadata": {
        "id": "view-in-github",
        "colab_type": "text"
      },
      "source": [
        "<a href=\"https://colab.research.google.com/github/vikarevanavisa/DDP-2025/blob/main/praktikum5.ipynb\" target=\"_parent\"><img src=\"https://colab.research.google.com/assets/colab-badge.svg\" alt=\"Open In Colab\"/></a>"
      ]
    },
    {
      "cell_type": "code",
      "execution_count": null,
      "metadata": {
        "colab": {
          "base_uri": "https://localhost:8080/"
        },
        "id": "jvZ5tZUH4eIW",
        "outputId": "8c5369e0-b6cc-4fe0-e7ab-6340da74c5f0"
      },
      "outputs": [
        {
          "output_type": "stream",
          "name": "stdout",
          "text": [
            "['Pcx', 'Motor', 155, 'Putih', 2]\n",
            "['Pcx', 'Motor', 155, 'Putih', 2, 7000, 'Metic']\n",
            "['Pcx', 'Motor', 'Honda', 155, 'Putih', 2, 7000, 'Metic']\n"
          ]
        }
      ],
      "source": [
        "NamaKendaraan =\"Pcx\"\n",
        "JenisKendaraan =\"Motor\"\n",
        "CcKendaraan = 155\n",
        "WarnaKendaraan =\"Putih\"\n",
        "RodaKendaraan = 2\n",
        "\n",
        "data_kendaraan =[NamaKendaraan, JenisKendaraan, CcKendaraan,\n",
        "                 WarnaKendaraan, RodaKendaraan]\n",
        "\n",
        "print(data_kendaraan)\n",
        "\n",
        "HargaKendaraan = 7000\n",
        "TipeKendaraan = \"Metic\"\n",
        "\n",
        "data_kendaraan.append(HargaKendaraan)\n",
        "data_kendaraan.append(TipeKendaraan)\n",
        "print(data_kendaraan)\n",
        "\n",
        "MerkKendaraan=\"Honda\"\n",
        "data_kendaraan.insert(2, MerkKendaraan)\n",
        "print(data_kendaraan)"
      ]
    },
    {
      "cell_type": "code",
      "source": [
        "pilihan = input(\"\"\"\n",
        "Silahkan pilih menu yang diinginkan\n",
        "===================================\n",
        "1. Luas Persegi\n",
        "2. Luas Lingkaran\n",
        "3. Luas Segitiga\n",
        "===================================\n",
        "Kirimkan hanya angka saja,\n",
        "jawaban = \"\"\")\n",
        "\n",
        "match pilihan:\n",
        "  case \"1\":\n",
        "    print(\"Anda memilih luas persegi silahkan isi data dibawah\")\n",
        "    sisi = int(input(\"sisi = \"))\n",
        "    luas = (sisi * sisi\n",
        "\n",
        "    print(f\"Luas persegi dengan sisi {sisi} adalah {luas}\")\n",
        "    # Luas Persegi\n",
        "  case \"2\":\n",
        "    print(\"Anda memilih luas lingkaran silahkan isi data dibawah\")\n",
        "    JariJari = int(input(\"JariJari = \"))\n",
        "    luas = (3.14 * JariJari * JariJari)\n",
        "\n",
        "    print(f\"Luas lingkaran dengan JariJari {JariJari} adalah {luas}\")\n",
        "    # Luas Lingkaran\n",
        "  case \"3\":\n",
        "    print(\"Anda memilih luas segitiga silahkan isi data dibawah\")\n",
        "    alas = int(input(\"alas = \"))\n",
        "    tinggi = int(input(\"tinggi = \"))\n",
        "    luas = (alas * tinggi /2)\n",
        "    print(f\"Luas segitiga dengan alas {alas} dan tinggi {tinggi} adalah {luas}\")\n",
        "    # Luas Segitiga\n",
        "  case _:\n",
        "    print(\"Saya gatau kak\")"
      ],
      "metadata": {
        "colab": {
          "base_uri": "https://localhost:8080/"
        },
        "id": "nChPH2TI9SRe",
        "outputId": "4d103c73-05ba-4590-8949-14289c871daf"
      },
      "execution_count": null,
      "outputs": [
        {
          "output_type": "stream",
          "name": "stdout",
          "text": [
            "\n",
            "Silahkan pilih menu yang diinginkan\n",
            "===================================\n",
            "1. Luas Persegi\n",
            "2. Luas Lingkaran\n",
            "3. Luas Segitiga\n",
            "===================================\n",
            "Kirimkan hanya angka saja,\n",
            "jawaban = 250\n",
            "Saya gatau kak\n"
          ]
        }
      ]
    }
  ]
}